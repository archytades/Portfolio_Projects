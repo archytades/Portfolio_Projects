{
 "cells": [
  {
   "cell_type": "markdown",
   "id": "8cdf4f5b-d552-4732-ad42-faf77425a716",
   "metadata": {},
   "source": [
    "# Advent of Code Day "
   ]
  },
  {
   "cell_type": "markdown",
   "id": "d67b963c-79b0-42fb-938f-be6280a829a8",
   "metadata": {},
   "source": [
    "Find the Elf carrying the most Calories. How many total Calories is that Elf carrying?"
   ]
  },
  {
   "cell_type": "code",
   "execution_count": 20,
   "id": "a0628a6f-0806-467c-9f80-b3911399c964",
   "metadata": {},
   "outputs": [],
   "source": [
    "max_cal=0\n",
    "curr=0\n",
    "with open(\"input.txt\") as f:\n",
    "    lines=f.readlines()\n",
    "\n",
    "for i in range(len(lines)):\n",
    "    if lines[i].strip()!=\"\":\n",
    "        curr+=int(lines[i].strip())\n",
    "    else:\n",
    "        if curr>max_cal:\n",
    "            max_cal=curr\n",
    "        curr=0"
   ]
  },
  {
   "cell_type": "code",
   "execution_count": 24,
   "id": "0b672a87-0832-423c-8492-0437f1da516b",
   "metadata": {},
   "outputs": [
    {
     "name": "stdout",
     "output_type": "stream",
     "text": [
      "max cal: 74711\n"
     ]
    }
   ],
   "source": [
    "print(\"max cal:\",max_cal)"
   ]
  },
  {
   "cell_type": "markdown",
   "id": "cc591d8b-5760-465e-af7b-6a489191f41e",
   "metadata": {},
   "source": [
    "Day1, q2:\n",
    "Find the top three Elves carrying the most Calories. How many Calories are those Elves carrying in total?"
   ]
  },
  {
   "cell_type": "code",
   "execution_count": 29,
   "id": "3c5c2061-7088-47f1-9621-56e8fcb30625",
   "metadata": {},
   "outputs": [
    {
     "data": {
      "text/plain": [
       "209481"
      ]
     },
     "execution_count": 29,
     "metadata": {},
     "output_type": "execute_result"
    }
   ],
   "source": [
    "elf_cals=[]\n",
    "curr=0\n",
    "for i in range(len(lines)):\n",
    "    if lines[i].strip()!=\"\":\n",
    "        curr+=int(lines[i].strip())\n",
    "    else:\n",
    "        elf_cals.append(curr)\n",
    "        curr=0\n",
    "sum(sorted(elf_cals)[-3:])"
   ]
  },
  {
   "cell_type": "markdown",
   "id": "56449fc6-8fb9-4dcb-8da1-62f67972eccf",
   "metadata": {},
   "source": [
    "# Day 2 q1:\n",
    "\n",
    "Rock-Paper_scissors\n",
    "\n",
    "What would your total score be if everything goes exactly according to your strategy guide?"
   ]
  },
  {
   "cell_type": "code",
   "execution_count": 41,
   "id": "c180e581-c071-4cac-8f51-e6339878907d",
   "metadata": {},
   "outputs": [
    {
     "data": {
      "text/plain": [
       "11873"
      ]
     },
     "execution_count": 41,
     "metadata": {},
     "output_type": "execute_result"
    }
   ],
   "source": [
    "score=0\n",
    "\n",
    "score_dict={\"A\":{\"X\":4, \"Y\":8, \"Z\":3},\n",
    "            \"B\":{\"X\":1, \"Y\":5, \"Z\":9},\n",
    "            \"C\":{\"X\":7, \"Y\":2, \"Z\":6}}\n",
    "with open(\"input2.txt\") as f:\n",
    "    rounds=f.readlines()\n",
    "\n",
    "for rnd in rounds:\n",
    "    rnd=rnd.strip()\n",
    "    score+=score_dict[rnd[0]][rnd[-1]]\n",
    "\n",
    "score"
   ]
  },
  {
   "cell_type": "markdown",
   "id": "4c31f181-d379-46b6-aee3-44a9aefc5d29",
   "metadata": {},
   "source": [
    "q2: X,Y,Z actually indicate lose, draw, win, so we need to update scoring"
   ]
  },
  {
   "cell_type": "code",
   "execution_count": 42,
   "id": "4b00511e-4708-49b2-b940-0d092aa5263e",
   "metadata": {},
   "outputs": [
    {
     "data": {
      "text/plain": [
       "12014"
      ]
     },
     "execution_count": 42,
     "metadata": {},
     "output_type": "execute_result"
    }
   ],
   "source": [
    "score=0\n",
    "\n",
    "score_dict={\"A\":{\"X\":3, \"Y\":4, \"Z\":8},\n",
    "            \"B\":{\"X\":1, \"Y\":5, \"Z\":9},\n",
    "            \"C\":{\"X\":2, \"Y\":6, \"Z\":7}}\n",
    "with open(\"input2.txt\") as f:\n",
    "    rounds=f.readlines()\n",
    "\n",
    "for rnd in rounds:\n",
    "    rnd=rnd.strip()\n",
    "    score+=score_dict[rnd[0]][rnd[-1]]\n",
    "\n",
    "score"
   ]
  },
  {
   "cell_type": "markdown",
   "id": "19819eae-a749-401f-8271-7d7d95ee0bc9",
   "metadata": {
    "tags": []
   },
   "source": [
    "# D3 q1\n",
    "For example, suppose you have the following list of contents from six rucksacks:\n",
    "\n",
    "- vJrwpWtwJgWrhcsFMMfFFhFp\n",
    "- jqHRNqRjqzjGDLGLrsFMfFZSrLrFZsSL\n",
    "- PmmdzqPrVvPwwTWBwg\n",
    "- wMqvLMZHhHMvwLHjbvcjnnSBnvTQFn\n",
    "- ttgJtRGJQctTZtZT\n",
    "- CrZsJsPPZsGzwwsLwLmpwMDw\n",
    "\n",
    "The first rucksack contains the items vJrwpWtwJgWrhcsFMMfFFhFp, which means its first compartment contains the items vJrwpWtwJgWr, while the second compartment contains the items hcsFMMfFFhFp. The only item type that appears in both compartments is lowercase p.\n",
    "The second rucksack's compartments contain jqHRNqRjqzjGDLGL and rsFMfFZSrLrFZsSL. The only item type that appears in both compartments is uppercase L.\n",
    "The third rucksack's compartments contain PmmdzqPrV and vPwwTWBwg; the only common item type is uppercase P.\n",
    "The fourth rucksack's compartments only share item type v.\n",
    "The fifth rucksack's compartments only share item type t.\n",
    "The sixth rucksack's compartments only share item type s.\n",
    "To help prioritize item rearrangement, every item type can be converted to a priority:\n",
    "\n",
    "Lowercase item types a through z have priorities 1 through 26.\n",
    "Uppercase item types A through Z have priorities 27 through 52.\n",
    "In the above example, the priority of the item type that appears in both compartments of each rucksack is 16 (p), 38 (L), 42 (P), 22 (v), 20 (t), and 19 (s); the sum of these is 157.\n",
    "\n",
    "Find the item type that appears in both compartments of each rucksack. What is the sum of the priorities of those item types?"
   ]
  },
  {
   "cell_type": "code",
   "execution_count": 49,
   "id": "5fb41931-4249-4fe1-bf81-b73302e74d0b",
   "metadata": {},
   "outputs": [],
   "source": [
    "import string"
   ]
  },
  {
   "cell_type": "code",
   "execution_count": 51,
   "id": "3a77d116-696c-4dc8-b613-d13567a7f058",
   "metadata": {},
   "outputs": [],
   "source": [
    "\n",
    "priorities={j:i+1 for i,j in enumerate(string.ascii_letters)}\n",
    "\n",
    "with open(\"rucksack.txt\") as f:\n",
    "    items=f.readlines()\n"
   ]
  },
  {
   "cell_type": "code",
   "execution_count": 58,
   "id": "b9172828-1080-413b-9c8b-cc6e3e4beb0c",
   "metadata": {},
   "outputs": [
    {
     "data": {
      "text/plain": [
       "8252"
      ]
     },
     "execution_count": 58,
     "metadata": {},
     "output_type": "execute_result"
    }
   ],
   "source": [
    "prio_sum=0\n",
    "for line in items:\n",
    "    cut=len(line)//2\n",
    "    res=set(line[:cut]).intersection(set(line[cut:]))\n",
    "    prio_sum+=priorities[res.pop()]\n",
    "prio_sum"
   ]
  },
  {
   "cell_type": "code",
   "execution_count": 59,
   "id": "5a124d26-f6d5-4cc4-aa5e-2803ff53b0ea",
   "metadata": {},
   "outputs": [],
   "source": [
    "groups=[items[i:i+3] for i in range(0, len(items), 3)]"
   ]
  },
  {
   "cell_type": "code",
   "execution_count": 62,
   "id": "a4f59b5c-019a-47ed-8a81-286d00996023",
   "metadata": {},
   "outputs": [
    {
     "data": {
      "text/plain": [
       "2828"
      ]
     },
     "execution_count": 62,
     "metadata": {},
     "output_type": "execute_result"
    }
   ],
   "source": [
    "group_sum=0\n",
    "for group in groups:\n",
    "    res=set(group[0].strip()).intersection(set(group[1].strip())).intersection(set(group[2].strip()))\n",
    "    group_sum+=priorities[res.pop()]\n",
    "                                    \n",
    "group_sum"
   ]
  },
  {
   "cell_type": "markdown",
   "id": "d7745a5c-3f42-4c16-b46c-f73cdafc4922",
   "metadata": {},
   "source": [
    "# Day4 q1\n",
    "One group fully contains the other\n",
    "\n",
    "In how many assignment pairs does one range fully contain the other?\n",
    "\n"
   ]
  },
  {
   "cell_type": "code",
   "execution_count": 65,
   "id": "1391379f-48bb-40e0-a504-fe54d916c1e0",
   "metadata": {},
   "outputs": [
    {
     "data": {
      "text/plain": [
       "['28-47,45-47\\n',\n",
       " '32-97,98-98\\n',\n",
       " '59-92,91-93\\n',\n",
       " '8-74,9-74\\n',\n",
       " '58-98,23-57\\n']"
      ]
     },
     "execution_count": 65,
     "metadata": {},
     "output_type": "execute_result"
    }
   ],
   "source": [
    "import regex as re\n",
    "with open(\"contained.txt\") as f:\n",
    "    contained=f.readlines()\n",
    "contained[:5]"
   ]
  },
  {
   "cell_type": "code",
   "execution_count": 105,
   "id": "caedba44-3e29-4e43-9979-dd3c929a4051",
   "metadata": {},
   "outputs": [],
   "source": [
    "n=len(contained)\n",
    "lmin=[int(re.findall(r\"^(\\d+)-\",contained[i]).pop()) for i in range(n)]\n",
    "lmax=[int(re.findall(r\"-(\\d+),\",contained[i]).pop()) for i in range(n)]\n",
    "rmin=[int(re.findall(r\",(\\d+)-\",contained[i]).pop()) for i in range(n)]\n",
    "rmax=[int(re.findall(r\"-(\\d+)\\n\",contained[i]).pop()) for i in range(n)]\n"
   ]
  },
  {
   "cell_type": "code",
   "execution_count": 106,
   "id": "f8e62ac4-5985-40ef-9f72-ef05a915b752",
   "metadata": {},
   "outputs": [
    {
     "data": {
      "text/plain": [
       "524"
      ]
     },
     "execution_count": 106,
     "metadata": {},
     "output_type": "execute_result"
    }
   ],
   "source": [
    "contains_sum=0\n",
    "for i in range(len(contained)):\n",
    "\n",
    "    if lmin[i]>=rmin[i] and lmax[i]<=rmax[i]:\n",
    "        contains_sum+=1\n",
    "    #b contains a\n",
    "    elif rmin[i]>=lmin[i] and rmax[i]<=lmax[i]:\n",
    "        contains_sum+=1\n",
    "contains_sum"
   ]
  },
  {
   "cell_type": "markdown",
   "id": "2613444f-a177-4087-a0af-ed49cdf3a3bd",
   "metadata": {},
   "source": [
    "In how many assignment pairs do the ranges overlap?\n",
    "\n"
   ]
  },
  {
   "cell_type": "code",
   "execution_count": 114,
   "id": "e09305c2-4a7b-44e4-97e8-0153266c7d98",
   "metadata": {},
   "outputs": [
    {
     "data": {
      "text/plain": [
       "798"
      ]
     },
     "execution_count": 114,
     "metadata": {},
     "output_type": "execute_result"
    }
   ],
   "source": [
    "overlaps=0\n",
    "for i in range(len(contained)):\n",
    "    if lmin[i] in range(rmin[i], rmax[i]+1) or lmax[i] in range(rmin[i], rmax[i]+1):\n",
    "        overlaps+=1\n",
    "    elif rmin[i] in range(lmin[i], lmax[i]+1) or rmax[i] in range(lmin[i], lmax[i]+1):\n",
    "        overlaps+=1\n",
    "overlaps"
   ]
  },
  {
   "cell_type": "code",
   "execution_count": 113,
   "id": "28494e2f-25aa-4ed5-8958-954e28e65f52",
   "metadata": {},
   "outputs": [
    {
     "data": {
      "text/plain": [
       "True"
      ]
     },
     "execution_count": 113,
     "metadata": {},
     "output_type": "execute_result"
    }
   ],
   "source": [
    "5 in range(2,6+1)"
   ]
  },
  {
   "cell_type": "markdown",
   "id": "ca0bd3c6-5392-4f30-8025-b64f807bfaef",
   "metadata": {},
   "source": [
    "# Day 5q1\n",
    "\n",
    "moving crates"
   ]
  },
  {
   "cell_type": "code",
   "execution_count": 134,
   "id": "a63627bf-3969-4e6e-b22c-7fd6fab140db",
   "metadata": {},
   "outputs": [
    {
     "data": {
      "text/plain": [
       "['b', 'd', 'e', 'f']"
      ]
     },
     "execution_count": 134,
     "metadata": {},
     "output_type": "execute_result"
    }
   ],
   "source": [
    "test={2:['b','c','d','e','f'],\n",
    "      4:['t','w','g'],\n",
    "      3:['e','g','h','r']}\n",
    "\n",
    "test[2].pop(1)\n"
   ]
  },
  {
   "cell_type": "code",
   "execution_count": 159,
   "id": "d19d9d03-251b-496d-bf8d-24fef65a9a9f",
   "metadata": {},
   "outputs": [
    {
     "data": {
      "text/plain": [
       "'move 3 from 6 to 2\\n'"
      ]
     },
     "execution_count": 159,
     "metadata": {},
     "output_type": "execute_result"
    }
   ],
   "source": [
    "with open(\"crates.txt\") as f:\n",
    "    crates=f.readlines()\n",
    "stacks={1:['B','V','S','N','T','C','H','Q'],\n",
    "        2:['W','D','B','G'],\n",
    "        3:['F','W','R','T','S','Q','B'],\n",
    "        4:['L','G','W','S','Z','J','D','N'],\n",
    "        5:['M','P','D','V','F'],\n",
    "        6:['F','W','J'],\n",
    "        7:['L','N','Q','B','J','V'],\n",
    "        8:['G','T','R','C','J','Q','S','N'],\n",
    "        9:['J','S','Q','C','W','D','M']}\n",
    "moves=crates[10:]\n",
    "moves[0]"
   ]
  },
  {
   "cell_type": "code",
   "execution_count": 160,
   "id": "a2f4099f-dcf9-460c-8d19-ddc26f2fff2c",
   "metadata": {},
   "outputs": [],
   "source": [
    "for move in moves:\n",
    "    #extract instructions\n",
    "    n=int(re.findall(r\"move\\s(\\d+)\", move).pop())\n",
    "    source=int(re.findall(r\"from\\s(\\d+)\", move).pop())\n",
    "    destination=int(re.findall(r\"to\\s(\\d+)\", move).pop())\n",
    "    #execute moves\n",
    "    load=stacks[source][-n:]\n",
    "    stacks[destination]+=load\n",
    "    stacks[source]=stacks[source][:-n]\n"
   ]
  },
  {
   "cell_type": "code",
   "execution_count": 162,
   "id": "73275e2e-2847-4116-84a5-75d9be486d92",
   "metadata": {},
   "outputs": [
    {
     "data": {
      "text/plain": [
       "'CJVLJQPHS'"
      ]
     },
     "execution_count": 162,
     "metadata": {},
     "output_type": "execute_result"
    }
   ],
   "source": [
    "ans=[stacks[i][-1] for i in range(1,10)]\n",
    "\"\".join(ans)"
   ]
  },
  {
   "cell_type": "markdown",
   "id": "6ab1d3f3-4ca2-411d-a329-70d82c688107",
   "metadata": {},
   "source": [
    "# Day6 q1\n",
    "\n",
    "signal processing: the start of a packet is indicated by a sequence of four characters that are all different\n",
    "\n",
    "How many characters need to be processed before the first start-of-packet marker is detected?"
   ]
  },
  {
   "cell_type": "code",
   "execution_count": 166,
   "id": "9cb526d1-6678-4d62-89e6-bfc179cf9d1e",
   "metadata": {},
   "outputs": [],
   "source": [
    "with open(\"datastream.txt\") as f:\n",
    "    data=f.readlines()\n",
    "signal=data[0]"
   ]
  },
  {
   "cell_type": "code",
   "execution_count": 182,
   "id": "c0bf9072-cf38-4a0b-b131-3b2f2dd8e9b5",
   "metadata": {},
   "outputs": [
    {
     "name": "stdout",
     "output_type": "stream",
     "text": [
      "3513\n"
     ]
    }
   ],
   "source": [
    "#slide a window of length 4 through the signal\n",
    "#if the characters in the window are unique, they are the\n",
    "#start-of-packet marker; answer is next index after end of marker\n",
    "#start-of-message, 14 distinct\n",
    "j=14\n",
    "while j<len(signal):\n",
    "    window=signal[j-14:j]\n",
    "    if len(set(window))==14:\n",
    "        print(j)\n",
    "        break\n",
    "    j+=1"
   ]
  },
  {
   "cell_type": "markdown",
   "id": "2ef6751b-9644-492a-95d7-1d1c196d5b81",
   "metadata": {},
   "source": [
    "# Day 7\n",
    "\n",
    "file directory system\n",
    "\n",
    "Find all of the directories with a total size of at most 100000. What is the sum of the total sizes of those directories?"
   ]
  },
  {
   "cell_type": "code",
   "execution_count": 185,
   "id": "8809789a-fe39-4d97-803d-6c6c6229a0e1",
   "metadata": {},
   "outputs": [
    {
     "data": {
      "text/plain": [
       "['$ cd /\\n',\n",
       " '$ ls\\n',\n",
       " 'dir bgmjrlz\\n',\n",
       " 'dir bhp\\n',\n",
       " 'dir cbcwz\\n',\n",
       " '169838 fddw.bgw\\n',\n",
       " 'dir fvhmzqc\\n',\n",
       " 'dir hqmlnpn\\n',\n",
       " '248637 jtwpn.lnr\\n',\n",
       " '319470 lnmrrht.zbn\\n']"
      ]
     },
     "execution_count": 185,
     "metadata": {},
     "output_type": "execute_result"
    }
   ],
   "source": [
    "with open(\"directories.txt\") as f:\n",
    "    directories=f.readlines()\n",
    "directories[:10]"
   ]
  },
  {
   "cell_type": "code",
   "execution_count": 197,
   "id": "d56ed44f-4a66-4824-85e3-adab5415ad6a",
   "metadata": {},
   "outputs": [],
   "source": [
    "dir_names=[dr[4:-1] for dr in directories if \"dir\" in dr]"
   ]
  },
  {
   "cell_type": "markdown",
   "id": "2e44d168-1e79-49d9-ac5c-617825d2b7f0",
   "metadata": {},
   "source": [
    "***Requires a lot of thought. Maybe come back to it***"
   ]
  },
  {
   "cell_type": "code",
   "execution_count": null,
   "id": "349ab860-0e16-4643-b107-9c309ccc758d",
   "metadata": {},
   "outputs": [],
   "source": []
  },
  {
   "cell_type": "markdown",
   "id": "b2f4c815-aea6-4e0a-a31f-f62826aaa8fb",
   "metadata": {},
   "source": [
    "(more fun- tree heights)\n",
    "#D7 q1\n",
    "\n",
    "How many trees are visible from the map"
   ]
  },
  {
   "cell_type": "code",
   "execution_count": 200,
   "id": "7c31a2f3-1281-4008-b6af-5342fa3e9de3",
   "metadata": {},
   "outputs": [],
   "source": [
    "import numpy as np"
   ]
  },
  {
   "cell_type": "code",
   "execution_count": 213,
   "id": "864e1415-9f28-45fb-97ad-fc975d318bc4",
   "metadata": {},
   "outputs": [],
   "source": [
    "with open(\"treeheights.txt\") as f:\n",
    "    heights=f.readlines()\n",
    "treemap=np.array([[int(x) for x in heights[i].strip()] for i in range(len(heights))])"
   ]
  },
  {
   "cell_type": "code",
   "execution_count": 217,
   "id": "9c39182b-cce2-4c66-bdde-91c9046cc89e",
   "metadata": {},
   "outputs": [
    {
     "data": {
      "text/plain": [
       "array([[3, 2, 3, ..., 1, 0, 0],\n",
       "       [3, 3, 1, ..., 0, 1, 2],\n",
       "       [0, 2, 3, ..., 2, 3, 2],\n",
       "       ...,\n",
       "       [1, 1, 0, ..., 1, 2, 3],\n",
       "       [0, 0, 1, ..., 2, 0, 3],\n",
       "       [1, 1, 0, ..., 2, 2, 1]])"
      ]
     },
     "execution_count": 217,
     "metadata": {},
     "output_type": "execute_result"
    }
   ],
   "source": [
    "treemap[3,0:2]"
   ]
  },
  {
   "cell_type": "code",
   "execution_count": 224,
   "id": "3a785c12-1def-4cca-9173-fae93188bcd4",
   "metadata": {},
   "outputs": [
    {
     "data": {
      "text/plain": [
       "0"
      ]
     },
     "execution_count": 224,
     "metadata": {},
     "output_type": "execute_result"
    }
   ],
   "source": [
    "exterior_visible=sum(2*treemap.shape)-4"
   ]
  },
  {
   "cell_type": "code",
   "execution_count": 235,
   "id": "c02eddb8-59df-4350-9110-3673182d57af",
   "metadata": {},
   "outputs": [
    {
     "data": {
      "text/plain": [
       "1303"
      ]
     },
     "execution_count": 235,
     "metadata": {},
     "output_type": "execute_result"
    }
   ],
   "source": [
    "#interior visible trees\n",
    "interior_visible_count=0\n",
    "for i in range(1, treemap.shape[0]-1):\n",
    "    for j in range(1, treemap.shape[1]-1):\n",
    "        tree=treemap[i,j]\n",
    "        #look west\n",
    "        west=tree > np.max(treemap[i, :j])\n",
    "            \n",
    "        #look east\n",
    "        east=tree > np.max(treemap[i, j+1:])\n",
    "        \n",
    "        #look north\n",
    "        north=tree > np.max(treemap[:i, j])\n",
    "        \n",
    "        #look south\n",
    "        south = tree > np.max(treemap[i+1:, j])\n",
    "        \n",
    "        #if tree visible from any direction, increment count\n",
    "        if west or east or north or south:\n",
    "            interior_visible_count+=1\n",
    "interior_visible_count"
   ]
  },
  {
   "cell_type": "code",
   "execution_count": 236,
   "id": "47ee9954-87ea-4cfb-b7f6-4cf38f5ceb84",
   "metadata": {},
   "outputs": [
    {
     "data": {
      "text/plain": [
       "1695"
      ]
     },
     "execution_count": 236,
     "metadata": {},
     "output_type": "execute_result"
    }
   ],
   "source": [
    "interior_visible_count+exterior_visible"
   ]
  },
  {
   "cell_type": "code",
   "execution_count": 237,
   "id": "66baea66-c99c-47e6-8365-118537cf8638",
   "metadata": {},
   "outputs": [],
   "source": [
    "scenic_score=np.zeros_like(treemap)"
   ]
  },
  {
   "cell_type": "code",
   "execution_count": 250,
   "id": "2878f4ee-74d8-4de2-9b80-5d4b35271afe",
   "metadata": {},
   "outputs": [],
   "source": [
    "#calculate scenic score for each tree on the map\n",
    "#product of length of arrays in each direction to a tree of greater or equal size or edge\n",
    "#trees on edge have scenic score of 0\n",
    "for i in range(1, treemap.shape[0]-1):\n",
    "    for j in range(1, treemap.shape[1]-1):\n",
    "        tree=treemap[i,j]\n",
    "        #look west\n",
    "        west=treemap[i, :j]\n",
    "        west_score=0\n",
    "        for k in range(len(west)):\n",
    "            if west[-k]>=tree:\n",
    "                west_score+=1\n",
    "                break\n",
    "            west_score+=1\n",
    "        #look east\n",
    "        east=treemap[i, j+1:]\n",
    "        east_score=0\n",
    "        for k in range(0,len(east)):\n",
    "            if east[k]>=tree:\n",
    "                east_score+=1\n",
    "                break\n",
    "            east_score+=1\n",
    "        #look north\n",
    "        north=treemap[:i, j]\n",
    "        north_score=0\n",
    "        for k in range(len(north)):\n",
    "            if north[-k]>=tree:\n",
    "                north_score+=1\n",
    "                break\n",
    "            north_score+=1\n",
    "        \n",
    "        #look south\n",
    "        south = treemap[i+1:, j]\n",
    "        south_score=0\n",
    "        for k in range(0,len(south)):\n",
    "            if south[k]>=tree:\n",
    "                south_score+=1\n",
    "                break\n",
    "            south_score+=1\n",
    "        #calculate scenic score and append to scenic score\n",
    "        scenic_score[i,j]=north_score*south_score*east_score*west_score"
   ]
  },
  {
   "cell_type": "code",
   "execution_count": 254,
   "id": "0a8cf13d-e324-47f1-8f1e-f2b9944bb4ac",
   "metadata": {},
   "outputs": [
    {
     "data": {
      "text/plain": [
       "287040"
      ]
     },
     "execution_count": 254,
     "metadata": {},
     "output_type": "execute_result"
    }
   ],
   "source": [
    "np.max(scenic_score)"
   ]
  },
  {
   "cell_type": "markdown",
   "id": "d7d2bcee-8b51-4969-8bef-9e0876833d72",
   "metadata": {},
   "source": [
    "Day 9 Rope Bridge\n",
    "\n",
    "How many positions does the tail of the rope visit at least once?\n",
    "\n",
    "Tail must always be touching head."
   ]
  },
  {
   "cell_type": "code",
   "execution_count": 258,
   "id": "0a61bd1f-330b-4496-9d5b-93abcad904f7",
   "metadata": {},
   "outputs": [
    {
     "data": {
      "text/plain": [
       "['D 2\\n', 'R 1\\n', 'U 1\\n', 'L 1\\n', 'D 2\\n']"
      ]
     },
     "execution_count": 258,
     "metadata": {},
     "output_type": "execute_result"
    }
   ],
   "source": [
    "with open(\"rope.txt\") as f:\n",
    "    rope=f.readlines()\n",
    "rope[:5]"
   ]
  },
  {
   "cell_type": "code",
   "execution_count": 389,
   "id": "ac24af8b-2912-4445-853f-8fdfca150110",
   "metadata": {},
   "outputs": [],
   "source": [
    "#strategy: put knots in center of 1000x1000 field and move around\n",
    "#keep track of spaces visited by tail.\n",
    "visited=np.zeros([1000,1000])\n",
    "\n",
    "#function to determine if Head and Tail are touching\n",
    "def not_touching(hx, hy, tx, ty):\n",
    "    if (abs(hx-tx)>1) or (abs(hy-ty)>1):\n",
    "        return True\n",
    "    return False\n",
    "    \n",
    "def head_move(direction, hx, hy):\n",
    "    #function to move Head and Tail single move \n",
    "    #takes direction and current position of Head and Tail\n",
    "    #returns updated position of Head and Tail\n",
    "    \n",
    "    #first move Head\n",
    "    #move up\n",
    "    if direction==\"U\":\n",
    "        hy-=1\n",
    "    if direction==\"D\":\n",
    "        hy+=1\n",
    "    if direction==\"L\":\n",
    "        hx-=1\n",
    "    if direction==\"R\":\n",
    "        hx+=1\n",
    "    return (hx, hy)\n",
    "    \n",
    "def tail_move(hx, hy, tx, ty):\n",
    "    #horizontal move\n",
    "    if hy==ty:\n",
    "        #head is to the right\n",
    "        if hx>tx:\n",
    "            tx+=1\n",
    "        #head is to the left\n",
    "        elif hx<tx:\n",
    "            tx-=1\n",
    "    #vertical move\n",
    "    if hx==tx:\n",
    "        #head is up\n",
    "        if hy<ty:\n",
    "            ty-=1\n",
    "        #head is down\n",
    "        elif hy>ty:\n",
    "            ty+=1\n",
    "    #diagonal moves\n",
    "    if hx!=tx and hy!=ty:\n",
    "        if hx>tx:\n",
    "            tx+=1\n",
    "        else:\n",
    "            tx-=1\n",
    "        if hy>ty:\n",
    "            ty+=1\n",
    "        else:\n",
    "            ty-=1\n",
    "    return (tx, ty)"
   ]
  },
  {
   "cell_type": "code",
   "execution_count": 390,
   "id": "1be79063-284a-4b1d-8295-46986d04b18b",
   "metadata": {},
   "outputs": [],
   "source": [
    "#upgrade to 10 knots\n",
    "#initialize head and tail positions to middle of board\n",
    "knots={i:[500,500] for i in range(10)}"
   ]
  },
  {
   "cell_type": "code",
   "execution_count": 391,
   "id": "d213c0a9-cc53-422d-9680-879cdaa7a40c",
   "metadata": {},
   "outputs": [],
   "source": [
    "visited[500,500]=1\n",
    "for cmd in rope:\n",
    "    #extract instruction\n",
    "    direction=cmd[0]\n",
    "    num=int(re.findall(\"\\s(\\d+)\",cmd).pop())\n",
    "    #execute commands\n",
    "    for i in range(num):\n",
    "        knots[0][0], knots[0][1] = head_move(direction, knots[0][0], knots[0][1])\n",
    "        #now it's a chain reaction\n",
    "        for j in range(1,10):\n",
    "            if not_touching(knots[j-1][0], knots[j-1][1], knots[j][0], knots[j][1]):\n",
    "                knots[j][0], knots[j][1]=tail_move(knots[j-1][0], knots[j-1][1], knots[j][0], knots[j][1])\n",
    "        visited[knots[9][0], knots[9][1]]=1\n",
    "    "
   ]
  },
  {
   "cell_type": "code",
   "execution_count": 392,
   "id": "f90eab23-5243-493f-acb7-feff34ad3cf9",
   "metadata": {},
   "outputs": [
    {
     "data": {
      "text/plain": [
       "2405.0"
      ]
     },
     "execution_count": 392,
     "metadata": {},
     "output_type": "execute_result"
    }
   ],
   "source": [
    "sum(sum(visited))"
   ]
  },
  {
   "cell_type": "code",
   "execution_count": 372,
   "id": "c9790f15-6901-4484-8b1f-8d94c25e9fad",
   "metadata": {},
   "outputs": [
    {
     "data": {
      "text/plain": [
       "2406.0"
      ]
     },
     "execution_count": 372,
     "metadata": {},
     "output_type": "execute_result"
    }
   ],
   "source": [
    "sum(sum(visited)) #right answer- BOOM!"
   ]
  },
  {
   "cell_type": "code",
   "execution_count": 303,
   "id": "529abbf4-84fa-4543-b119-3dbe89290f8e",
   "metadata": {},
   "outputs": [],
   "source": [
    "#how far did the Head and Tail travel?\n",
    "non_zero_rows=[i for i in range(visited.shape[0]) if np.sum(visited[i])>0]\n",
    "non_zero_cols=[i for i in range(visited.shape[1]) if np.sum(visited[:,i])>0]"
   ]
  },
  {
   "cell_type": "code",
   "execution_count": 393,
   "id": "e7c6a01f-af84-4e75-923f-d44436e6c1fe",
   "metadata": {},
   "outputs": [
    {
     "data": {
      "text/plain": [
       "<AxesSubplot:>"
      ]
     },
     "execution_count": 393,
     "metadata": {},
     "output_type": "execute_result"
    },
    {
     "data": {
      "image/png": "[encoded data removed]",
      "text/plain": [
       "<Figure size 640x480 with 2 Axes>"
      ]
     },
     "metadata": {},
     "output_type": "display_data"
    }
   ],
   "source": [
    "import pandas as pd\n",
    "import seaborn as sns\n",
    "sns.heatmap(pd.DataFrame(visited), cmap='viridis')"
   ]
  },
  {
   "cell_type": "code",
   "execution_count": 396,
   "id": "1f6f9037-196f-4222-873b-12b413905a58",
   "metadata": {},
   "outputs": [
    {
     "data": {
      "text/plain": [
       "['2', '-3', '10', '12', '-130', '55']"
      ]
     },
     "execution_count": 396,
     "metadata": {},
     "output_type": "execute_result"
    }
   ],
   "source": [
    "re.findall(r\"(-?\\d+)\", \"2, -3, 10, 12, -130, 55\")"
   ]
  },
  {
   "cell_type": "markdown",
   "id": "1363647d-c5a7-472f-8dca-768df96866c6",
   "metadata": {},
   "source": [
    "# D10 q1\n",
    "\n",
    "Signal Strength: the cycle number multiplied by the value of the X register\n",
    "\n",
    "Find the signal strength during the 20th, 60th, 100th, 140th, 180th, and 220th cycles. What is the sum of these six signal strengths?"
   ]
  },
  {
   "cell_type": "code",
   "execution_count": 441,
   "id": "05f34846-1ce8-47c8-9057-dba88b7ffd9e",
   "metadata": {
    "tags": []
   },
   "outputs": [
    {
     "data": {
      "text/plain": [
       "['addx 1\\n', 'addx 5\\n', 'noop\\n', 'addx -1\\n', 'noop\\n']"
      ]
     },
     "execution_count": 441,
     "metadata": {},
     "output_type": "execute_result"
    }
   ],
   "source": [
    "with open(\"signal.txt\") as f:\n",
    "    signal=f.readlines()\n",
    "signal[:5]"
   ]
  },
  {
   "cell_type": "code",
   "execution_count": 419,
   "id": "15cd038e-591a-4c80-8944-1fdf3ea7633b",
   "metadata": {},
   "outputs": [
    {
     "data": {
      "text/plain": [
       "'1'"
      ]
     },
     "execution_count": 419,
     "metadata": {},
     "output_type": "execute_result"
    }
   ],
   "source": [
    "[re.findall(r\"(-?\\d+)\",signal[i]) for i in range(5)][0].pop()"
   ]
  },
  {
   "cell_type": "code",
   "execution_count": 442,
   "id": "0f1f5e1f-505a-4238-8409-e70db9cf8ad9",
   "metadata": {},
   "outputs": [],
   "source": [
    "#initialize register\n",
    "X=1\n",
    "cycles=[]\n",
    "for sig in signal:\n",
    "    if sig[:4]=='noop':\n",
    "        cycles.append(X)\n",
    "    elif sig[:4]=='addx':\n",
    "        num=int(re.findall(r\"(-?\\d+)\",sig).pop())\n",
    "        for i in range(2):\n",
    "            if i==1:\n",
    "                X+=num\n",
    "            cycles.append(X)\n",
    "            "
   ]
  },
  {
   "cell_type": "code",
   "execution_count": 444,
   "id": "6cced5e6-e758-4e50-9c48-e5495ee15b12",
   "metadata": {},
   "outputs": [
    {
     "name": "stdout",
     "output_type": "stream",
     "text": [
      "[17 17 23 22 21 16]\n",
      "[ 340 1020 2300 3080 3780 3520]\n",
      "14040\n"
     ]
    }
   ],
   "source": [
    "sel_cycles=np.array([20, 60, 100, 140, 180, 220])\n",
    "\n",
    "print(np.array(cycles)[sel_cycles-2])\n",
    "print(np.array(cycles)[sel_cycles-2]*sel_cycles)\n",
    "print(sum(np.array(cycles)[sel_cycles-2]*sel_cycles))"
   ]
  },
  {
   "cell_type": "code",
   "execution_count": 500,
   "id": "14b8806a-ad96-4e82-a57c-266ffdf3d849",
   "metadata": {},
   "outputs": [],
   "source": [
    "#X indicates sprite position\n",
    "disp=[]\n",
    "for g in range(0,240,40):\n",
    "    row=cycles[g: g+40] \n",
    "    tmp=[]\n",
    "    for p in range(40):\n",
    "        if p in range(row[p]-2, row[p]+1) :\n",
    "            tmp.append(\"#\")\n",
    "        else:\n",
    "            tmp.append(\".\")\n",
    "    disp.append(tmp)"
   ]
  },
  {
   "cell_type": "code",
   "execution_count": 501,
   "id": "5c235e46-dfc2-4bff-9baa-c1a1f082b904",
   "metadata": {},
   "outputs": [
    {
     "data": {
      "text/plain": [
       "['###..##...##....##.####...##.####.#.....',\n",
       " '..#.#..#.#..#....#....#....#.#....#.....',\n",
       " '.#..#....#.......#...#.....#.###..#.....',\n",
       " '#...#.##.#.......#..#......#.#....#.....',\n",
       " '....#..#.#..#.#..#.#....#..#.#....#.....',\n",
       " '###..###..##...##..####..##..#....####..']"
      ]
     },
     "execution_count": 501,
     "metadata": {},
     "output_type": "execute_result"
    }
   ],
   "source": [
    "[\"\".join(disp[i]) for i in range(6)] ZGCJZJFL"
   ]
  },
  {
   "cell_type": "code",
   "execution_count": 513,
   "id": "cb97987e-41ff-4817-bfd7-25ff47d33e83",
   "metadata": {},
   "outputs": [
    {
     "data": {
      "text/plain": [
       "array([-1.44363548, -1.02528754, -0.41701183,  0.34906261,  0.97803793,\n",
       "        1.41049977])"
      ]
     },
     "execution_count": 513,
     "metadata": {},
     "output_type": "execute_result"
    }
   ],
   "source": [
    "z=np.arange(-2,2,np.pi/4)\n",
    "\n",
    "np.arcsinh(z)"
   ]
  },
  {
   "cell_type": "code",
   "execution_count": 514,
   "id": "30ee055d-9c82-492f-9726-00788e869089",
   "metadata": {},
   "outputs": [
    {
     "data": {
      "text/plain": [
       "array([-1.44363548, -1.02528754, -0.41701183,  0.34906261,  0.97803793,\n",
       "        1.41049977])"
      ]
     },
     "execution_count": 514,
     "metadata": {},
     "output_type": "execute_result"
    }
   ],
   "source": [
    "#(arcsinh equiv to hyp inv sin)\n",
    "np.log(np.sqrt(z**2+1)+z)\n",
    "\n",
    "#ihs = function(z){return(log(sqrt(z^2+1)+z))}"
   ]
  },
  {
   "cell_type": "markdown",
   "id": "5c20b7ab-cc79-4dbe-bc8e-023d755563a2",
   "metadata": {},
   "source": [
    "# D25, q1 SNAFU Numbers"
   ]
  },
  {
   "cell_type": "code",
   "execution_count": 516,
   "id": "47dacfd9-00dd-41be-9cbc-b363c0abf91a",
   "metadata": {},
   "outputs": [
    {
     "data": {
      "text/plain": [
       "['1=120=22222-=10-=\\n',\n",
       " '1--22-=-\\n',\n",
       " '21\\n',\n",
       " '1=0222=-1=-0--220=02\\n',\n",
       " '122102\\n']"
      ]
     },
     "execution_count": 516,
     "metadata": {},
     "output_type": "execute_result"
    }
   ],
   "source": [
    "with open(\"snafunums.txt\") as f:\n",
    "    nums=f.readlines()\n",
    "nums[:5]"
   ]
  },
  {
   "cell_type": "code",
   "execution_count": 529,
   "id": "818944b2-3dbd-4150-a571-08211df1c838",
   "metadata": {},
   "outputs": [
    {
     "data": {
      "text/plain": [
       "28115957264952"
      ]
     },
     "execution_count": 529,
     "metadata": {},
     "output_type": "execute_result"
    }
   ],
   "source": [
    "snafu_to_dec={\"1\":1,\"2\":2,\"0\":0,\"-\":-1,\"=\":-2}\n",
    "decsum=0\n",
    "for num in nums:\n",
    "    snafu=[*num.strip()]\n",
    "    for i in range(len(snafu)):\n",
    "        decsum+=snafu_to_dec[snafu[-(i+1)]]*5**i\n",
    "decsum"
   ]
  },
  {
   "cell_type": "code",
   "execution_count": 548,
   "id": "e053d211-6c00-42bb-a192-6973d47ea32f",
   "metadata": {},
   "outputs": [],
   "source": [
    "dec_input=decsum\n",
    "place=0\n",
    "fives={}\n",
    "while dec_input>0:\n",
    "    placeval=dec_input%5**place\n",
    "    fives[place]=placeval\n",
    "    dec_input-=placeval\n",
    "    place+=1"
   ]
  },
  {
   "cell_type": "code",
   "execution_count": 549,
   "id": "ef7e0fef-00dd-4d05-894b-fbedd360a3c6",
   "metadata": {},
   "outputs": [
    {
     "data": {
      "text/plain": [
       "{0: 0,\n",
       " 1: 2,\n",
       " 2: 0,\n",
       " 3: 75,\n",
       " 4: 500,\n",
       " 5: 1875,\n",
       " 6: 12500,\n",
       " 7: 62500,\n",
       " 8: 156250,\n",
       " 9: 0,\n",
       " 10: 0,\n",
       " 11: 39062500,\n",
       " 12: 195312500,\n",
       " 13: 488281250,\n",
       " 14: 2441406250,\n",
       " 15: 6103515625,\n",
       " 16: 30517578125,\n",
       " 17: 610351562500,\n",
       " 18: 762939453125,\n",
       " 19: 7629394531250,\n",
       " 20: 19073486328125}"
      ]
     },
     "execution_count": 549,
     "metadata": {},
     "output_type": "execute_result"
    }
   ],
   "source": [
    "fives"
   ]
  },
  {
   "cell_type": "code",
   "execution_count": 537,
   "id": "897c7d5d-cf3c-4a03-b36c-ea95457e5ab5",
   "metadata": {},
   "outputs": [],
   "source": [
    "def numberToBase(n, b):\n",
    "    if n == 0:\n",
    "        return [0]\n",
    "    digits = []\n",
    "    while n:\n",
    "        digits.append(int(n % b))\n",
    "        n //= b\n",
    "    return digits[::-1]\n",
    "\n",
    "b5=numberToBase(decsum, 5)"
   ]
  },
  {
   "cell_type": "code",
   "execution_count": 547,
   "id": "76a20aae-507f-4ec1-9977-6231db912e13",
   "metadata": {},
   "outputs": [
    {
     "data": {
      "text/plain": [
       "[1, 2, 1, 4, 1, 1, 2, 2, 4, 4, 0, 0, 2, 4, 4, 3, 4, 3, 0, 2]"
      ]
     },
     "execution_count": 547,
     "metadata": {},
     "output_type": "execute_result"
    }
   ],
   "source": [
    "b5sum=0\n",
    "for i in range(len(b5)):\n",
    "    b5sum+=b5[-(i+1)]*5**i\n",
    "b5"
   ]
  },
  {
   "cell_type": "code",
   "execution_count": 552,
   "id": "6c0c1691-5853-42d2-81e0-df5ca2f2cb68",
   "metadata": {},
   "outputs": [
    {
     "data": {
      "text/plain": [
       "True"
      ]
     },
     "execution_count": 552,
     "metadata": {},
     "output_type": "execute_result"
    }
   ],
   "source": [
    "ans=\"122-12==0-01=00-0=02\"\n",
    "ansum=0\n",
    "snafu=[*ans.strip()]\n",
    "for i in range(len(snafu)):\n",
    "    ansum+=snafu_to_dec[snafu[-(i+1)]]*5**i\n",
    "ansum==decsum"
   ]
  }
 ],
 "metadata": {
  "kernelspec": {
   "display_name": "Python 3 (ipykernel)",
   "language": "python",
   "name": "python3"
  },
  "language_info": {
   "codemirror_mode": {
    "name": "ipython",
    "version": 3
   },
   "file_extension": ".py",
   "mimetype": "text/x-python",
   "name": "python",
   "nbconvert_exporter": "python",
   "pygments_lexer": "ipython3",
   "version": "3.10.6"
  }
 },
 "nbformat": 4,
 "nbformat_minor": 5
}
